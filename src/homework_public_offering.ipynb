{
 "cells": [
  {
   "cell_type": "code",
   "execution_count": 1,
   "metadata": {},
   "outputs": [
    {
     "data": {
      "text/html": [
       "<div>\n",
       "<style scoped>\n",
       "    .dataframe tbody tr th:only-of-type {\n",
       "        vertical-align: middle;\n",
       "    }\n",
       "\n",
       "    .dataframe tbody tr th {\n",
       "        vertical-align: top;\n",
       "    }\n",
       "\n",
       "    .dataframe thead th {\n",
       "        text-align: right;\n",
       "    }\n",
       "</style>\n",
       "<table border=\"1\" class=\"dataframe\">\n",
       "  <thead>\n",
       "    <tr style=\"text-align: right;\">\n",
       "      <th></th>\n",
       "      <th>日付</th>\n",
       "      <th>始値</th>\n",
       "      <th>高値</th>\n",
       "      <th>安値</th>\n",
       "      <th>終値</th>\n",
       "      <th>出来高</th>\n",
       "      <th>終値調整値</th>\n",
       "    </tr>\n",
       "  </thead>\n",
       "  <tbody>\n",
       "    <tr>\n",
       "      <th>0</th>\n",
       "      <td>2016-01-04</td>\n",
       "      <td>556</td>\n",
       "      <td>576</td>\n",
       "      <td>548</td>\n",
       "      <td>548</td>\n",
       "      <td>35200</td>\n",
       "      <td>274.0</td>\n",
       "    </tr>\n",
       "    <tr>\n",
       "      <th>1</th>\n",
       "      <td>2016-01-05</td>\n",
       "      <td>547</td>\n",
       "      <td>557</td>\n",
       "      <td>530</td>\n",
       "      <td>540</td>\n",
       "      <td>17000</td>\n",
       "      <td>270.0</td>\n",
       "    </tr>\n",
       "    <tr>\n",
       "      <th>2</th>\n",
       "      <td>2016-01-06</td>\n",
       "      <td>541</td>\n",
       "      <td>548</td>\n",
       "      <td>520</td>\n",
       "      <td>521</td>\n",
       "      <td>21000</td>\n",
       "      <td>260.5</td>\n",
       "    </tr>\n",
       "    <tr>\n",
       "      <th>3</th>\n",
       "      <td>2016-01-07</td>\n",
       "      <td>518</td>\n",
       "      <td>518</td>\n",
       "      <td>500</td>\n",
       "      <td>504</td>\n",
       "      <td>39500</td>\n",
       "      <td>252.0</td>\n",
       "    </tr>\n",
       "    <tr>\n",
       "      <th>4</th>\n",
       "      <td>2016-01-08</td>\n",
       "      <td>490</td>\n",
       "      <td>507</td>\n",
       "      <td>490</td>\n",
       "      <td>504</td>\n",
       "      <td>35100</td>\n",
       "      <td>252.0</td>\n",
       "    </tr>\n",
       "    <tr>\n",
       "      <th>...</th>\n",
       "      <td>...</td>\n",
       "      <td>...</td>\n",
       "      <td>...</td>\n",
       "      <td>...</td>\n",
       "      <td>...</td>\n",
       "      <td>...</td>\n",
       "      <td>...</td>\n",
       "    </tr>\n",
       "    <tr>\n",
       "      <th>487</th>\n",
       "      <td>2017-12-25</td>\n",
       "      <td>1208</td>\n",
       "      <td>1230</td>\n",
       "      <td>1175</td>\n",
       "      <td>1181</td>\n",
       "      <td>937500</td>\n",
       "      <td>1181.0</td>\n",
       "    </tr>\n",
       "    <tr>\n",
       "      <th>488</th>\n",
       "      <td>2017-12-26</td>\n",
       "      <td>1181</td>\n",
       "      <td>1204</td>\n",
       "      <td>1154</td>\n",
       "      <td>1164</td>\n",
       "      <td>934000</td>\n",
       "      <td>1164.0</td>\n",
       "    </tr>\n",
       "    <tr>\n",
       "      <th>489</th>\n",
       "      <td>2017-12-27</td>\n",
       "      <td>1174</td>\n",
       "      <td>1212</td>\n",
       "      <td>1170</td>\n",
       "      <td>1208</td>\n",
       "      <td>434100</td>\n",
       "      <td>1208.0</td>\n",
       "    </tr>\n",
       "    <tr>\n",
       "      <th>490</th>\n",
       "      <td>2017-12-28</td>\n",
       "      <td>1214</td>\n",
       "      <td>1218</td>\n",
       "      <td>1174</td>\n",
       "      <td>1181</td>\n",
       "      <td>448300</td>\n",
       "      <td>1181.0</td>\n",
       "    </tr>\n",
       "    <tr>\n",
       "      <th>491</th>\n",
       "      <td>2017-12-29</td>\n",
       "      <td>1182</td>\n",
       "      <td>1204</td>\n",
       "      <td>1179</td>\n",
       "      <td>1187</td>\n",
       "      <td>272800</td>\n",
       "      <td>1187.0</td>\n",
       "    </tr>\n",
       "  </tbody>\n",
       "</table>\n",
       "<p>492 rows × 7 columns</p>\n",
       "</div>"
      ],
      "text/plain": [
       "             日付    始値    高値    安値    終値     出来高   終値調整値\n",
       "0    2016-01-04   556   576   548   548   35200   274.0\n",
       "1    2016-01-05   547   557   530   540   17000   270.0\n",
       "2    2016-01-06   541   548   520   521   21000   260.5\n",
       "3    2016-01-07   518   518   500   504   39500   252.0\n",
       "4    2016-01-08   490   507   490   504   35100   252.0\n",
       "..          ...   ...   ...   ...   ...     ...     ...\n",
       "487  2017-12-25  1208  1230  1175  1181  937500  1181.0\n",
       "488  2017-12-26  1181  1204  1154  1164  934000  1164.0\n",
       "489  2017-12-27  1174  1212  1170  1208  434100  1208.0\n",
       "490  2017-12-28  1214  1218  1174  1181  448300  1181.0\n",
       "491  2017-12-29  1182  1204  1179  1187  272800  1187.0\n",
       "\n",
       "[492 rows x 7 columns]"
      ]
     },
     "execution_count": 1,
     "metadata": {},
     "output_type": "execute_result"
    }
   ],
   "source": [
    "import pandas as pd\n",
    "\n",
    "df1 = pd.read_csv(\"3793_2016.csv\", encoding=\"shift-jis\", skiprows=1)\n",
    "df2 = pd.read_csv(\"3793_2017.csv\", encoding=\"shift-jis\", skiprows=1)\n",
    "\n",
    "# https://pandas.pydata.org/pandas-docs/stable/reference/api/pandas.concat.html\n",
    "df3 =  pd.concat([df1, df2], ignore_index=True)\n",
    "df3"
   ]
  },
  {
   "cell_type": "code",
   "execution_count": 105,
   "metadata": {},
   "outputs": [
    {
     "data": {
      "text/plain": [
       "0      2016-01-04\n",
       "1      2016-01-05\n",
       "2      2016-01-06\n",
       "3      2016-01-07\n",
       "4      2016-01-08\n",
       "          ...    \n",
       "487    2017-12-25\n",
       "488    2017-12-26\n",
       "489    2017-12-27\n",
       "490    2017-12-28\n",
       "491    2017-12-29\n",
       "Name: 日付, Length: 492, dtype: object"
      ]
     },
     "execution_count": 105,
     "metadata": {},
     "output_type": "execute_result"
    }
   ],
   "source": [
    "df3[\"日付\"]"
   ]
  },
  {
   "cell_type": "code",
   "execution_count": 106,
   "metadata": {},
   "outputs": [
    {
     "data": {
      "text/html": [
       "<div>\n",
       "<style scoped>\n",
       "    .dataframe tbody tr th:only-of-type {\n",
       "        vertical-align: middle;\n",
       "    }\n",
       "\n",
       "    .dataframe tbody tr th {\n",
       "        vertical-align: top;\n",
       "    }\n",
       "\n",
       "    .dataframe thead th {\n",
       "        text-align: right;\n",
       "    }\n",
       "</style>\n",
       "<table border=\"1\" class=\"dataframe\">\n",
       "  <thead>\n",
       "    <tr style=\"text-align: right;\">\n",
       "      <th></th>\n",
       "      <th>日付</th>\n",
       "      <th>始値</th>\n",
       "      <th>高値</th>\n",
       "      <th>安値</th>\n",
       "      <th>終値</th>\n",
       "      <th>出来高</th>\n",
       "      <th>終値調整値</th>\n",
       "    </tr>\n",
       "  </thead>\n",
       "  <tbody>\n",
       "    <tr>\n",
       "      <th>285</th>\n",
       "      <td>2017-03-02</td>\n",
       "      <td>2506</td>\n",
       "      <td>2650</td>\n",
       "      <td>2433</td>\n",
       "      <td>2599</td>\n",
       "      <td>774600</td>\n",
       "      <td>1299.5</td>\n",
       "    </tr>\n",
       "  </tbody>\n",
       "</table>\n",
       "</div>"
      ],
      "text/plain": [
       "             日付    始値    高値    安値    終値     出来高   終値調整値\n",
       "285  2017-03-02  2506  2650  2433  2599  774600  1299.5"
      ]
     },
     "execution_count": 106,
     "metadata": {},
     "output_type": "execute_result"
    }
   ],
   "source": [
    "# df[['name', 'kcal']].query('kcal > 450 and name == \"豚肉の生姜焼\"') \n",
    "df3[df3[\"日付\"] == \"2017-03-02\"]"
   ]
  },
  {
   "cell_type": "code",
   "execution_count": 107,
   "metadata": {},
   "outputs": [
    {
     "data": {
      "text/plain": [
       "[<matplotlib.lines.Line2D at 0x7f8ed5734580>]"
      ]
     },
     "execution_count": 107,
     "metadata": {},
     "output_type": "execute_result"
    },
    {
     "data": {
      "image/png": "[encoded data removed]",
      "text/plain": [
       "<Figure size 432x288 with 1 Axes>"
      ]
     },
     "metadata": {
      "needs_background": "light"
     },
     "output_type": "display_data"
    }
   ],
   "source": [
    "#2月 23日がイベント日\n",
    "\n",
    "#受け渡し日は3月2日\n",
    "import matplotlib.pyplot as plt\n",
    "plt.xticks(rotation=45)\n",
    "plt.plot(df3[\"日付\"].values[250:350], df3[\"終値\"].values[250:350])"
   ]
  },
  {
   "cell_type": "code",
   "execution_count": 108,
   "metadata": {},
   "outputs": [
    {
     "data": {
      "text/html": [
       "<div>\n",
       "<style scoped>\n",
       "    .dataframe tbody tr th:only-of-type {\n",
       "        vertical-align: middle;\n",
       "    }\n",
       "\n",
       "    .dataframe tbody tr th {\n",
       "        vertical-align: top;\n",
       "    }\n",
       "\n",
       "    .dataframe thead th {\n",
       "        text-align: right;\n",
       "    }\n",
       "</style>\n",
       "<table border=\"1\" class=\"dataframe\">\n",
       "  <thead>\n",
       "    <tr style=\"text-align: right;\">\n",
       "      <th></th>\n",
       "      <th>日付</th>\n",
       "      <th>始値</th>\n",
       "      <th>高値</th>\n",
       "      <th>安値</th>\n",
       "      <th>終値</th>\n",
       "      <th>出来高</th>\n",
       "      <th>終値調整値</th>\n",
       "    </tr>\n",
       "  </thead>\n",
       "  <tbody>\n",
       "    <tr>\n",
       "      <th>285</th>\n",
       "      <td>2017-03-02</td>\n",
       "      <td>2506</td>\n",
       "      <td>2650</td>\n",
       "      <td>2433</td>\n",
       "      <td>2599</td>\n",
       "      <td>774600</td>\n",
       "      <td>1299.5</td>\n",
       "    </tr>\n",
       "  </tbody>\n",
       "</table>\n",
       "</div>"
      ],
      "text/plain": [
       "             日付    始値    高値    安値    終値     出来高   終値調整値\n",
       "285  2017-03-02  2506  2650  2433  2599  774600  1299.5"
      ]
     },
     "execution_count": 108,
     "metadata": {},
     "output_type": "execute_result"
    }
   ],
   "source": [
    "df3[df3[\"日付\"] == \"2017-03-02\"]"
   ]
  },
  {
   "cell_type": "code",
   "execution_count": 109,
   "metadata": {},
   "outputs": [
    {
     "data": {
      "text/plain": [
       "206"
      ]
     },
     "execution_count": 109,
     "metadata": {},
     "output_type": "execute_result"
    }
   ],
   "source": [
    "491 - 285"
   ]
  },
  {
   "cell_type": "code",
   "execution_count": 110,
   "metadata": {},
   "outputs": [
    {
     "data": {
      "text/plain": [
       "492"
      ]
     },
     "execution_count": 110,
     "metadata": {},
     "output_type": "execute_result"
    }
   ],
   "source": [
    "len(df3)"
   ]
  },
  {
   "cell_type": "code",
   "execution_count": 111,
   "metadata": {},
   "outputs": [
    {
     "name": "stdout",
     "output_type": "stream",
     "text": [
      "492\n"
     ]
    }
   ],
   "source": [
    "t_list = [i for i in range(-285, 207)]\n",
    "print(len(t_list))"
   ]
  },
  {
   "cell_type": "code",
   "execution_count": 112,
   "metadata": {},
   "outputs": [
    {
     "data": {
      "text/html": [
       "<div>\n",
       "<style scoped>\n",
       "    .dataframe tbody tr th:only-of-type {\n",
       "        vertical-align: middle;\n",
       "    }\n",
       "\n",
       "    .dataframe tbody tr th {\n",
       "        vertical-align: top;\n",
       "    }\n",
       "\n",
       "    .dataframe thead th {\n",
       "        text-align: right;\n",
       "    }\n",
       "</style>\n",
       "<table border=\"1\" class=\"dataframe\">\n",
       "  <thead>\n",
       "    <tr style=\"text-align: right;\">\n",
       "      <th></th>\n",
       "      <th>日付</th>\n",
       "      <th>始値</th>\n",
       "      <th>高値</th>\n",
       "      <th>安値</th>\n",
       "      <th>終値</th>\n",
       "      <th>出来高</th>\n",
       "      <th>終値調整値</th>\n",
       "      <th>t</th>\n",
       "    </tr>\n",
       "  </thead>\n",
       "  <tbody>\n",
       "    <tr>\n",
       "      <th>285</th>\n",
       "      <td>2017-03-02</td>\n",
       "      <td>2506</td>\n",
       "      <td>2650</td>\n",
       "      <td>2433</td>\n",
       "      <td>2599</td>\n",
       "      <td>774600</td>\n",
       "      <td>1299.5</td>\n",
       "      <td>0</td>\n",
       "    </tr>\n",
       "  </tbody>\n",
       "</table>\n",
       "</div>"
      ],
      "text/plain": [
       "             日付    始値    高値    安値    終値     出来高   終値調整値  t\n",
       "285  2017-03-02  2506  2650  2433  2599  774600  1299.5  0"
      ]
     },
     "execution_count": 112,
     "metadata": {},
     "output_type": "execute_result"
    }
   ],
   "source": [
    "df3[\"t\"] = t_list \n",
    "df3[df3[\"t\"] == 0]"
   ]
  },
  {
   "cell_type": "code",
   "execution_count": 113,
   "metadata": {},
   "outputs": [
    {
     "data": {
      "text/plain": [
       "[<matplotlib.lines.Line2D at 0x7f8ed408fa00>]"
      ]
     },
     "execution_count": 113,
     "metadata": {},
     "output_type": "execute_result"
    },
    {
     "data": {
      "image/png": "[encoded data removed]",
      "text/plain": [
       "<Figure size 432x288 with 1 Axes>"
      ]
     },
     "metadata": {
      "needs_background": "light"
     },
     "output_type": "display_data"
    }
   ],
   "source": [
    "df3[df3[\"t\"] == 0]\n",
    "#受け渡し日は3月2日\n",
    "import matplotlib.pyplot as plt\n",
    "plt.xticks(rotation=45)\n",
    "plt.ylabel('StokPrice', fontsize=15)\n",
    "plt.xlabel('t', fontsize=15)\n",
    "plt.plot(df3[\"t\"].values[275:296], df3[\"終値\"].values[275:296])"
   ]
  },
  {
   "cell_type": "code",
   "execution_count": 114,
   "metadata": {},
   "outputs": [
    {
     "data": {
      "text/plain": [
       "[<matplotlib.lines.Line2D at 0x7f8ed4120520>]"
      ]
     },
     "execution_count": 114,
     "metadata": {},
     "output_type": "execute_result"
    },
    {
     "data": {
      "image/png": "[encoded data removed]",
      "text/plain": [
       "<Figure size 432x288 with 1 Axes>"
      ]
     },
     "metadata": {
      "needs_background": "light"
     },
     "output_type": "display_data"
    }
   ],
   "source": [
    "plt.plot(df3[\"t\"].values[85:485], df3[\"終値\"].values[85:485])"
   ]
  },
  {
   "cell_type": "code",
   "execution_count": null,
   "metadata": {},
   "outputs": [],
   "source": [
    "#第三者割当"
   ]
  },
  {
   "cell_type": "markdown",
   "metadata": {},
   "source": [
    "公募増資の内容"
   ]
  },
  {
   "cell_type": "code",
   "execution_count": 67,
   "metadata": {},
   "outputs": [
    {
     "name": "stdout",
     "output_type": "stream",
     "text": [
      "2.366905464250597\n"
     ]
    }
   ],
   "source": [
    "####公募増資による資金調達額（予定）（円）####\n",
    "# 増資前の資本金の額 1,196,638,851 円 (平成 28 年9月 30 日現在)\n",
    "# (2) 公募増資により増加する資本金の額 352,586,250 円\n",
    "# (3) 公募増資後の資本金の額 1,549,225,101 円\n",
    "# (4) 並行第三者割当増資により増加する資本金の額 101,556,000 円\n",
    "# (5) 並行第三者割当増資後の資本金の額 1,650,781,101 円\n",
    "\n",
    "\n",
    "######公募価格（予定）（円）#####\n",
    "# 2,232 円\n",
    "\n",
    "######発行新株数（株）#########\n",
    "#######発行前発行済株式数（株）##\n",
    "\n",
    "# (1) 増資前 の発行済株式総数 13,901,000 株 (平成 29 年2月 28 日現在)\n",
    "# (2) 公募増資による増加株式数 337,000 株\n",
    "# (3) 公募増資後の発行済株式総数 14,238,000 株\n",
    "# (4) 並行第三者割当増資による増加株式数 91,000 株\n",
    "# (5) 並行第三者割当増資後の発行済株式総数 14,329,000 株\n",
    "\n",
    "######希薄化率（%） #######\n",
    "#希薄化率=(発行新株数/発行済株式総数) *100\n",
    "\n",
    "print(337000/14238000 * 100)"
   ]
  },
  {
   "cell_type": "markdown",
   "metadata": {},
   "source": [
    "株価推移"
   ]
  },
  {
   "cell_type": "code",
   "execution_count": 68,
   "metadata": {},
   "outputs": [
    {
     "name": "stdout",
     "output_type": "stream",
     "text": [
      "284    2458\n",
      "Name: 終値, dtype: int64\n",
      "285    2599\n",
      "Name: 終値, dtype: int64\n",
      "2,325 円\n",
      "2,232 円\n",
      "2,092.50 円\n"
     ]
    }
   ],
   "source": [
    "#公表前日終値（円）\n",
    "print(df3[df3[\"t\"] == -1][\"終値\"])\n",
    "\n",
    "#公表日終値（円）\n",
    "print(df3[df3[\"t\"] == 0 ][\"終値\"])\n",
    "\n",
    "#価格算定日終値（円）\n",
    "print(\"2,325 円\")\n",
    "\n",
    "#公募価格（または発行価格）（円）\n",
    "print(\"2,232 円\")\n",
    "\n",
    "#払込価格（円）\n",
    "print(\"2,092.50 円\")\n"
   ]
  },
  {
   "cell_type": "markdown",
   "metadata": {},
   "source": [
    "発行費用と資金調達額"
   ]
  },
  {
   "cell_type": "code",
   "execution_count": 90,
   "metadata": {},
   "outputs": [
    {
     "name": "stdout",
     "output_type": "stream",
     "text": [
      "284    5.410903\n",
      "Name: 終値, dtype: float64\n",
      "4.0\n",
      "6.25\n",
      "284    123173500.0\n",
      "Name: 終値, dtype: float64\n",
      "752184000\n"
     ]
    }
   ],
   "source": [
    "#価格下落率（%）\n",
    "# (価格算定日終値-公表前日終値公表前日終値)/公表前日終値公表前日終値\n",
    "santei =  2325\n",
    "formar = df3[df3[\"t\"] == -1][\"終値\"]\n",
    "drop_rate = (santei - formar)/formar * -1 *100\n",
    "print(drop_rate)\n",
    "\n",
    "\n",
    "#ディスカウント率（%）\n",
    "# (公募価格-価格算定日終値)/価格算定日終値\n",
    "public_offering_price = 2232\n",
    "santei = 2325\n",
    "print((public_offering_price - santei)/santei*  -1 * 100 )\n",
    "\n",
    "\n",
    "#引受手数料率（%）\n",
    "#(払込価格-公募価格)/公募価格⋅(-1)⋅100\n",
    "payment = 2092.5\n",
    "\n",
    "print((payment - public_offering_price )/public_offering_price* -1* 100)\n",
    "\n",
    "#総発行費用（円）\n",
    "sougaku= 705172500\n",
    "print((df3[df3[\"t\"] == -1][\"終値\"] - 2092.50) * 337000 )\n",
    "\n",
    "#公募増資による資金調達額（円）\n",
    "print(337000 * 2232 )"
   ]
  },
  {
   "cell_type": "code",
   "execution_count": 91,
   "metadata": {},
   "outputs": [],
   "source": [
    "#平成29年　3月2日"
   ]
  },
  {
   "cell_type": "code",
   "execution_count": 14,
   "metadata": {},
   "outputs": [
    {
     "data": {
      "text/plain": [
       "0     11.1\n",
       "1        -\n",
       "2        -\n",
       "3     11.9\n",
       "4        -\n",
       "5      0.4\n",
       "6        -\n",
       "7      2.8\n",
       "8     18.0\n",
       "9        -\n",
       "10     4.6\n",
       "11       -\n",
       "12       -\n",
       "13       -\n",
       "14     8.8\n",
       "15    22.2\n",
       "Name: ROA, dtype: object"
      ]
     },
     "execution_count": 14,
     "metadata": {},
     "output_type": "execute_result"
    }
   ],
   "source": [
    "dfdf = pd.read_csv(\"financial_3793.csv\", encoding=\"shift-jis\")\n",
    "dfdf[\"ROA\"]"
   ]
  },
  {
   "cell_type": "code",
   "execution_count": 131,
   "metadata": {},
   "outputs": [
    {
     "name": "stdout",
     "output_type": "stream",
     "text": [
      "6819.124\n",
      "0.17480397775432738\n",
      "0.5066024609612613\n",
      "0.11900000000000001\n",
      "##########\n",
      "43\n",
      "43\n",
      "11.891665990496767\n"
     ]
    }
   ],
   "source": [
    "#<<2016年　直前>>\n",
    "\n",
    "# 総資産（百万円）\n",
    "\n",
    "print(dfdf[\"総資産\"][3] *0.000001)\n",
    "\n",
    "# 有利子負債比率\n",
    "print(dfdf[\"有利子負債\"][3]/dfdf[\"総資産\"][3])\n",
    "\n",
    "\n",
    "# 負債比率\n",
    "print(float(dfdf[\"負債\"][3])/dfdf[\"総資産\"][3])\n",
    "\n",
    "\n",
    "# ROA\n",
    "print(float(dfdf[\"ROA\"][3]) * 0.01)\n",
    "\n",
    "print(10* \"#\")\n",
    "# 現金保有比率\n",
    "print(dfdf[\"現金/総資産\"][3])\n",
    "\n",
    "\n",
    "\n",
    "#時価簿価比率 = 株式時価総額/(総資産-総負債)\n",
    "stock_price = int(dfdf[\"株価\"][3])\n",
    "stock_num = dfdf[\"発行済株式総数\"][3]\n",
    "\n",
    "market_value_book_value_ratio = stock_price*stock_num /(dfdf[\"総資産\"][3] - float(dfdf[\"負債\"][3]))\n",
    "print(market_value_book_value_ratio)"
   ]
  },
  {
   "cell_type": "code",
   "execution_count": null,
   "metadata": {},
   "outputs": [],
   "source": []
  },
  {
   "cell_type": "code",
   "execution_count": 13,
   "metadata": {},
   "outputs": [
    {
     "name": "stdout",
     "output_type": "stream",
     "text": [
      "1\n",
      "2018\n",
      "-\n",
      "現金保有比率 0.41000000000000003\n",
      "有形固定資産比率 0.2527681648695459\n",
      "有利子負債比率 0.4820174913901309\n",
      "負債比率 0.7951018867500798\n",
      "従業員数 367\n",
      "設備投資額 573.924\n",
      "負債 5523.087\n"
     ]
    }
   ],
   "source": [
    "# 平成29年3月31日 が次 -->>2017\n",
    "\n",
    "# 2015\n",
    "# 2016\n",
    "# 2017\n",
    "# 2018\n",
    "\n",
    "year_idx = int(input())\n",
    "# 2014 ・・・ 5(idx)\n",
    "\n",
    "print(dfdf[\"決算年度\"][year_idx])\n",
    "\n",
    "# ROA\n",
    "if dfdf[\"ROA\"][year_idx] == \"-\" :\n",
    "    print(\"-\")\n",
    "else:\n",
    "    print(\"ROA\", float(dfdf[\"ROA\"][year_idx]) * 0.01)\n",
    "    \n",
    "# 現金保有比率\n",
    "if dfdf[\"現金/総資産\"][year_idx]  == \"-\" :\n",
    "    print(\"-\")\n",
    "else:\n",
    "    print(\"現金保有比率\", dfdf[\"現金/総資産\"][year_idx] * 0.01)\n",
    "\n",
    "# 有形固定資産比率\n",
    "print(\"有形固定資産比率\", float(dfdf[\"固定資産\"][year_idx])/dfdf[\"総資産\"][year_idx])\n",
    "# 有利子負債比率\n",
    "print(\"有利子負債比率\", dfdf[\"有利子負債\"][year_idx]/dfdf[\"総資産\"][year_idx])\n",
    "\n",
    "# 負債比率\n",
    "print(\"負債比率\", float(dfdf[\"負債\"][year_idx])/dfdf[\"総資産\"][year_idx])\n",
    "# 従業員数(人)\n",
    "print(\"従業員数\", dfdf[\"従業員数\"][year_idx])\n",
    "# 設備投資額\n",
    "print(\"設備投資額\", float(dfdf[\"設備投資額\"][year_idx]) * 0.0001 * 0.01)\n",
    "# 負債\n",
    "print(\"負債\", float(dfdf[\"負債\"][year_idx]) * 0.0001 * 0.01)"
   ]
  },
  {
   "cell_type": "code",
   "execution_count": null,
   "metadata": {},
   "outputs": [],
   "source": [
    "a = str(dfdf[\"負債\"][year_idx])\n",
    "a = "
   ]
  },
  {
   "cell_type": "code",
   "execution_count": null,
   "metadata": {},
   "outputs": [],
   "source": []
  },
  {
   "cell_type": "code",
   "execution_count": null,
   "metadata": {},
   "outputs": [],
   "source": []
  },
  {
   "cell_type": "code",
   "execution_count": null,
   "metadata": {},
   "outputs": [],
   "source": [
    "sum_val\n",
    "\n",
    "buhin = [6/10, 7/10, 8/10] \n",
    "buhin = [6/10, 7/10, 8/10] \n",
    "buhin = [6/10, 7/10, 8/10] \n",
    "\n",
    "for i  \n",
    "    \n",
    "a = 6/10 *  7 /10 * (1 - 8/10)\n",
    "b = 6/10 *  7 /10 * (1 - 8/10)\n",
    "c = 6/10 *  7 /10 * (1 - 8/10)"
   ]
  },
  {
   "cell_type": "code",
   "execution_count": null,
   "metadata": {},
   "outputs": [],
   "source": []
  },
  {
   "cell_type": "code",
   "execution_count": null,
   "metadata": {},
   "outputs": [],
   "source": [
    "\n",
    "90C3/100C3"
   ]
  },
  {
   "cell_type": "code",
   "execution_count": 2,
   "metadata": {},
   "outputs": [
    {
     "data": {
      "text/plain": [
       "0.726530612244898"
      ]
     },
     "execution_count": 2,
     "metadata": {},
     "output_type": "execute_result"
    }
   ],
   "source": [
    "90*89*88/(100 *99 *98 )"
   ]
  },
  {
   "cell_type": "code",
   "execution_count": 3,
   "metadata": {},
   "outputs": [
    {
     "data": {
      "text/plain": [
       "0.726530612244898"
      ]
     },
     "execution_count": 3,
     "metadata": {},
     "output_type": "execute_result"
    }
   ],
   "source": [
    "178/245"
   ]
  },
  {
   "cell_type": "code",
   "execution_count": null,
   "metadata": {},
   "outputs": [],
   "source": []
  }
 ],
 "metadata": {
  "kernelspec": {
   "display_name": "Python 3",
   "language": "python",
   "name": "python3"
  },
  "language_info": {
   "codemirror_mode": {
    "name": "ipython",
    "version": 3
   },
   "file_extension": ".py",
   "mimetype": "text/x-python",
   "name": "python",
   "nbconvert_exporter": "python",
   "pygments_lexer": "ipython3",
   "version": "3.8.6"
  }
 },
 "nbformat": 4,
 "nbformat_minor": 4
}
